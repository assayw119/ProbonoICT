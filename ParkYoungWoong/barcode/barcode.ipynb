{
 "cells": [
  {
   "cell_type": "code",
   "execution_count": 5,
   "metadata": {
    "scrolled": true
   },
   "outputs": [
    {
     "name": "stdout",
     "output_type": "stream",
     "text": [
      "인식 성공 8801121020283 화이트하임\n",
      "인식 성공 8801121020283 화이트하임\n",
      "인식 성공 8801069300276 초코파이\n",
      "인식 성공 8801117139100 눈을감자\n"
     ]
    },
    {
     "name": "stderr",
     "output_type": "stream",
     "text": [
      "\n",
      "    Error 263 for command:\n",
      "        open 눈을감자.mp3\n",
      "    지정한 장치가 열려 있지 않거나 MCI에서 인식되지 않습니다.\n",
      "\n",
      "    Error 263 for command:\n",
      "        close 눈을감자.mp3\n",
      "    지정한 장치가 열려 있지 않거나 MCI에서 인식되지 않습니다.\n",
      "Failed to close the file: 눈을감자.mp3\n"
     ]
    },
    {
     "name": "stdout",
     "output_type": "stream",
     "text": [
      "인식 성공 8801117139100 눈을감자\n",
      "인식 성공 8801069300276 초코파이\n"
     ]
    },
    {
     "name": "stderr",
     "output_type": "stream",
     "text": [
      "\n",
      "    Error 263 for command:\n",
      "        open 초코파이.mp3\n",
      "    지정한 장치가 열려 있지 않거나 MCI에서 인식되지 않습니다.\n",
      "\n",
      "    Error 263 for command:\n",
      "        close 초코파이.mp3\n",
      "    지정한 장치가 열려 있지 않거나 MCI에서 인식되지 않습니다.\n",
      "Failed to close the file: 초코파이.mp3\n"
     ]
    },
    {
     "name": "stdout",
     "output_type": "stream",
     "text": [
      "인식 성공 8801069300276 초코파이\n",
      "인식 성공 8801121020283 화이트하임\n",
      "인식 성공 8801121020283 화이트하임\n"
     ]
    }
   ],
   "source": [
    "import cv2\n",
    "import pyzbar.pyzbar as pyzbar\n",
    "from playsound import playsound\n",
    "import time\n",
    "\n",
    "data_dic = {8801043035900:'신라면',\n",
    "            8801043035901:'안성탕면',\n",
    "            8801043035902:'너구리',\n",
    "            8801043035903:'짜파게티',\n",
    "            8801043035989:'프링글스',\n",
    "            8801019312069:'포카칩',\n",
    "            8801019314753:'빈츠',\n",
    "            8801019610080:'맛동산',\n",
    "            8801062012756:'쿠쿠다스',\n",
    "            8801117139100:'눈을감자',\n",
    "            8801069300276:'초코파이',\n",
    "            8801121020283:'화이트하임',\n",
    "            8801019411598:'홈런볼',\n",
    "            8801117784508:'꼬북칩초코',\n",
    "            8801117784509:'꼬북칩인절미'}\n",
    "\n",
    "\n",
    "cap = cv2.VideoCapture(1, cv2.CAP_DSHOW)\n",
    "\n",
    "while(cap.isOpened()):\n",
    "    \n",
    "    success, frame = cap.read()\n",
    "    \n",
    "    if not success:\n",
    "        continue\n",
    "        \n",
    "    if success:\n",
    "        \n",
    "        frame = cv2.cvtColor(frame, cv2.COLOR_BGR2GRAY)\n",
    "        \n",
    "        for code in pyzbar.decode(frame):\n",
    "            my_code = int(code.data.decode('utf-8'))\n",
    "\n",
    "            try:\n",
    "\n",
    "                if my_code in list(data_dic.keys()):\n",
    "                    print('인식 성공', my_code, data_dic[my_code])\n",
    "                    \n",
    "                    playsound('{}.mp3'.format(data_dic[my_code]))\n",
    "#                     time.sleep(2)\n",
    "                else:\n",
    "                    print('인식 오류')\n",
    "                    playsound('다시.mp3')\n",
    "            except:\n",
    "                continue\n",
    "            \n",
    "\n",
    "        cv2.imshow('cam', frame)\n",
    "\n",
    "        key = cv2.waitKey(1)\n",
    "\n",
    "        if key == 27:\n",
    "            break\n",
    "\n",
    "cap.release()\n",
    "cv2.destroyAllWindows()"
   ]
  },
  {
   "cell_type": "code",
   "execution_count": 4,
   "metadata": {},
   "outputs": [],
   "source": [
    "cap = cv2.VideoCapture(1, cv2.CAP_DSHOW)\n",
    "\n",
    "while(cap.isOpened()):\n",
    "    \n",
    "    success, frame = cap.read()\n",
    "    \n",
    "    if not success:\n",
    "        continue\n",
    "        \n",
    "    if success:\n",
    "        \n",
    "        frame = cv2.cvtColor(frame, cv2.COLOR_BGR2GRAY)\n",
    "        \n",
    "        for code in pyzbar.decode(frame):\n",
    "            my_code = int(code.data.decode('utf-8'))\n",
    "            \n",
    "            x,y,w,h = code.rect\n",
    "            \n",
    "            try:\n",
    "\n",
    "                if my_code in list(data_dic.keys()):\n",
    "                    print('인식 성공', my_code, data_dic[my_code])\n",
    "                    \n",
    "                    cv2.rectangle(frame, (x,y), (x+w, y+h), (0,0,255), 2)\n",
    "                    \n",
    "                    text = data_dic[my_code]\n",
    "                    cv2.putText(frame, text, (x,y), cv2.FONT_HERSHEY_SIMPLEX, 1, (0,255,255), 2, cv2.LINE_AA)\n",
    "#                     playsound('{}.mp3'.format(data_dic[my_code]))\n",
    "#                     time.sleep(1)\n",
    "                else:\n",
    "                    print('인식 오류')\n",
    "                    playsound('다시.mp3')\n",
    "            except:\n",
    "                continue\n",
    "            \n",
    "\n",
    "        cv2.imshow('cam', frame)\n",
    "\n",
    "        key = cv2.waitKey(2)\n",
    "\n",
    "        if key == 27:\n",
    "            break\n",
    "\n",
    "cap.release()\n",
    "cv2.destroyAllWindows()"
   ]
  }
 ],
 "metadata": {
  "kernelspec": {
   "display_name": "Python 3",
   "language": "python",
   "name": "python3"
  },
  "language_info": {
   "codemirror_mode": {
    "name": "ipython",
    "version": 3
   },
   "file_extension": ".py",
   "mimetype": "text/x-python",
   "name": "python",
   "nbconvert_exporter": "python",
   "pygments_lexer": "ipython3",
   "version": "3.8.11"
  }
 },
 "nbformat": 4,
 "nbformat_minor": 4
}
