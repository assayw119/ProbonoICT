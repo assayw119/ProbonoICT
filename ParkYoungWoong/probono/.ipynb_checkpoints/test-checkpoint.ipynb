{
 "cells": [
  {
   "cell_type": "code",
   "execution_count": 9,
   "metadata": {},
   "outputs": [
    {
     "name": "stdout",
     "output_type": "stream",
     "text": [
      "Requirement already satisfied: pillow in c:\\users\\assay\\anaconda3\\lib\\site-packages (7.2.0)\n"
     ]
    }
   ],
   "source": [
    "#pip install pytesseract\n",
    "!pip install pillow"
   ]
  },
  {
   "cell_type": "code",
   "execution_count": 17,
   "metadata": {},
   "outputs": [],
   "source": [
    "import cv2"
   ]
  },
  {
   "cell_type": "code",
   "execution_count": null,
   "metadata": {},
   "outputs": [],
   "source": [
    "import pytesseract\n",
    "import cv2\n",
    "import os\n",
    "from PIL import Image\n",
    "\n",
    "pytesseract.pytesseract.tesseract_cmd = R'C:/Program Files/Tesseract-OCR/Tesseract'\n",
    "\n",
    "\n",
    "#이미지를 불러와 gray 스케일로 변환해 준다.\n",
    "\n",
    "image = cv2.imread('img11.jpg')\n",
    "gray = cv2.cvtColor(image, cv2.COLOR_BGR2GRAY)\n",
    "\n",
    "#pytesseract에서는 numpy array를 읽지 못하고 file을 읽기 때문에 os로 파일을 불러들여야 한다.\n",
    "filename = \"{}.jpg\".format(os.getpid())\n",
    "cv2.imwrite(filename, gray)\n",
    "\n",
    "#pytesseract의 image to string을 써준다. \n",
    "#숫자니까 lang = 'None'으로\n",
    "\n",
    "text = pytesseract.image_to_string(Image.open(filename), lang='kor+eng')\n",
    "os.remove(filename)\n",
    "\n",
    "#결과를 보자.\n",
    "\n",
    "print(text)\n",
    "cv2.imshow('img',image)\n",
    "cv2.waitKey(0)"
   ]
  },
  {
   "cell_type": "code",
   "execution_count": null,
   "metadata": {},
   "outputs": [],
   "source": [
    "def selectWords(img):\n",
    "    # org = cv2.imread('capture4.png', cv2.IMREAD_COLOR)\n",
    "    org = img\n",
    "    # org = cv2.resize(org, dsize=(0,0), fx=0.5, fy=0.5)\n",
    "    gray = cv2.cvtColor(org, cv2.COLOR_BGR2GRAY)  # ================  1 gray scale로 변환\n",
    "\n",
    "    kernel = np.ones((52, 2), np.uint8)\n",
    "    kernel2 = np.ones((6, 15), np.uint8)\n",
    "    roi_list = []\n",
    "\n",
    "    morph = cv2.morphologyEx(gray, cv2.MORPH_GRADIENT, kernel)  # 2 ================ 경계선 찾기\n",
    "\n",
    "    thr = cv2.adaptiveThreshold(morph, 255, cv2.ADAPTIVE_THRESH_MEAN_C,  cv2.THRESH_BINARY_INV, 3, 30)  # 3 ================ 임계처리\n",
    "\n",
    "    morph2 = cv2.morphologyEx(thr, cv2.MORPH_CLOSE, kernel2)  # 4 ================ 뭉게기\n",
    "\n",
    "    contours, _ = cv2.findContours(morph2, cv2.RETR_EXTERNAL, cv2.CHAIN_APPROX_SIMPLE)  # 5 ================ 특징점 찾기\n",
    "\n",
    "    org2 = cv2.copyMakeBorder(org, 0, 0, 0, 0, cv2.BORDER_REPLICATE)\n",
    "    for cnt in contours:\n",
    "        try:\n",
    "            x, y, w, h = cv2.boundingRect(cnt)\n",
    "            if w > 5 and 30 < h < 100:\n",
    "                # print(w, h)\n",
    "                roi = org2[y:y + h, x:x + w]\n",
    "                # cv2.imshow('roi', roi)\n",
    "                roi_list.append(roi)\n",
    "                cv2.rectangle(org, (x, y), (x+w, y+h), (255, 0, 0), 2)\n",
    "\n",
    "        except Exception as e:\n",
    "           pass\n",
    "\n",
    "    cnt = 0              # print all pieces\n",
    "    '''for r in roi_list:\n",
    "        cnt += 1\n",
    "        cv2.imshow(str(cnt), r)'''\n",
    "\n",
    "    cv2.imshow('org', org)\n",
    "    cv2.imshow('roi_list', roi_list)\n",
    "    cv2.imshow('gray', gray)\n",
    "    cv2.imshow('morph', morph)\n",
    "    cv2.imshow('morph2', morph2)\n",
    "    cv2.imshow('thr', thr)\n",
    "\n",
    "    return org, roi_list, gray, morph, morph2, thr"
   ]
  },
  {
   "cell_type": "code",
   "execution_count": null,
   "metadata": {},
   "outputs": [],
   "source": []
  }
 ],
 "metadata": {
  "kernelspec": {
   "display_name": "Python 3",
   "language": "python",
   "name": "python3"
  },
  "language_info": {
   "codemirror_mode": {
    "name": "ipython",
    "version": 3
   },
   "file_extension": ".py",
   "mimetype": "text/x-python",
   "name": "python",
   "nbconvert_exporter": "python",
   "pygments_lexer": "ipython3",
   "version": "3.8.3"
  }
 },
 "nbformat": 4,
 "nbformat_minor": 4
}
