{
 "cells": [
  {
   "cell_type": "markdown",
   "id": "a67c59d6",
   "metadata": {},
   "source": [
    "### 커스텀 데이터셋 제작 : 각 이미지에 해당하는 annotation 값을 이용해 'bbox' 위치 정보로 단어 영역을 자르고 'text' 정보 함께 저장\n",
    "\n",
    "    - 이때, 태깅된 정보들 중에서 잘못된 값 존재\n",
    "      Ex) bbox에서 좌상단 좌표(x, y)와 너비/높이(w, h) 값이 0이거나 음수인 경우 \n",
    "    -> 데이터 저장 시 예외 처리 진행"
   ]
  },
  {
   "cell_type": "code",
   "execution_count": 2,
   "id": "a09826e3",
   "metadata": {},
   "outputs": [],
   "source": [
    "import json\n",
    "import os\n",
    "import cv2\n",
    "import matplotlib.pyplot as plt\n",
    "from tqdm import tqdm"
   ]
  },
  {
   "cell_type": "code",
   "execution_count": 4,
   "id": "2d149e6d",
   "metadata": {},
   "outputs": [],
   "source": [
    "# AI Hub의 데이터 annotation을 읽어 단어 단위로 잘라서 data에 저장하기"
   ]
  },
  {
   "cell_type": "code",
   "execution_count": null,
   "id": "12fe02c3",
   "metadata": {},
   "outputs": [],
   "source": []
  }
 ],
 "metadata": {
  "kernelspec": {
   "display_name": "tf_torch",
   "language": "python",
   "name": "yolo"
  },
  "language_info": {
   "codemirror_mode": {
    "name": "ipython",
    "version": 3
   },
   "file_extension": ".py",
   "mimetype": "text/x-python",
   "name": "python",
   "nbconvert_exporter": "python",
   "pygments_lexer": "ipython3",
   "version": "3.8.6"
  }
 },
 "nbformat": 4,
 "nbformat_minor": 5
}
